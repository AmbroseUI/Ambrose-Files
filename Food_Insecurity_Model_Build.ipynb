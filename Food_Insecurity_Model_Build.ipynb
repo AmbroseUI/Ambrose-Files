{
 "cells": [
  {
   "cell_type": "markdown",
   "id": "a62737a5",
   "metadata": {},
   "source": [
    "# Model Building\n",
    "\n"
   ]
  },
  {
   "cell_type": "code",
   "execution_count": 2,
   "id": "6acc8b28",
   "metadata": {},
   "outputs": [],
   "source": [
    "import numpy as np\n",
    "import matplotlib.pyplot as plt\n",
    "import pandas as pd\n",
    "import seaborn as sns\n",
    "import math\n",
    "from numpy.random import randn\n",
    "from sklearn.model_selection import train_test_split\n",
    "from sklearn.metrics import accuracy_score\n",
    "from matplotlib.pyplot import step, show\n",
    "from sklearn.metrics import classification_report, confusion_matrix"
   ]
  },
  {
   "cell_type": "code",
   "execution_count": 3,
   "id": "56991c56",
   "metadata": {},
   "outputs": [],
   "source": [
    "# \n",
    "from numpy import loadtxt\n",
    "from tensorflow.keras.models import Sequential\n",
    "from tensorflow.keras.layers import Dense"
   ]
  },
  {
   "cell_type": "code",
   "execution_count": 4,
   "id": "b5668768",
   "metadata": {},
   "outputs": [],
   "source": [
    "# Data Integration\n",
    "\n",
    "household_TrainDataset = pd.concat(map(pd.read_csv, ['Household_Data_wave1.csv',\n",
    "                                                     'Household_Data_wave2.csv',\n",
    "                                                     'Household_Data_wave3.csv']), ignore_index = True)\n"
   ]
  },
  {
   "cell_type": "code",
   "execution_count": 5,
   "id": "4eb371a2",
   "metadata": {},
   "outputs": [],
   "source": [
    "# Data Reduction\n",
    "\n",
    "\n",
    "household_TrainDataset.drop('NE',axis=1, inplace=True)\n",
    "household_TrainDataset.drop('NW',axis=1, inplace=True)\n",
    "household_TrainDataset.drop('NC',axis=1, inplace=True)\n",
    "household_TrainDataset.drop('SS',axis=1, inplace=True)\n",
    "household_TrainDataset.drop('SW',axis=1, inplace=True)\n",
    "household_TrainDataset.drop('SE',axis=1, inplace=True)\n",
    "household_TrainDataset.drop('npce',axis=1, inplace=True)\n",
    "household_TrainDataset.drop('gZone',axis=1, inplace=True)\n",
    "household_TrainDataset.drop('latitude',axis=1, inplace=True)\n",
    "household_TrainDataset.drop('longitude',axis=1, inplace=True)\n",
    "household_TrainDataset=household_TrainDataset.dropna()"
   ]
  },
  {
   "cell_type": "markdown",
   "id": "f5dc4aa0",
   "metadata": {},
   "source": [
    "### Splitting Dataset into input (train_x) and output (train_y) variables "
   ]
  },
  {
   "cell_type": "code",
   "execution_count": 6,
   "id": "8eeeccc5",
   "metadata": {},
   "outputs": [],
   "source": [
    "train_x = household_TrainDataset.drop('FSL',axis=1)\n",
    "train_y = household_TrainDataset.FSL"
   ]
  },
  {
   "cell_type": "markdown",
   "id": "87b28445",
   "metadata": {},
   "source": [
    "### Splitting Input and Output Data into Training Set (x_train, y_train) and Testing Set (x_test, y_test) variables "
   ]
  },
  {
   "cell_type": "code",
   "execution_count": 7,
   "id": "523149f3",
   "metadata": {},
   "outputs": [],
   "source": [
    "from sklearn.model_selection import train_test_split\n",
    "\n",
    "x_train, x_test, y_train, y_test = train_test_split(train_x, train_y, test_size = 0.3, random_state = 0)"
   ]
  },
  {
   "cell_type": "markdown",
   "id": "f358f3ff",
   "metadata": {},
   "source": [
    "### Model Networking Building and Compilation"
   ]
  },
  {
   "cell_type": "code",
   "execution_count": 8,
   "id": "fbd6badd",
   "metadata": {},
   "outputs": [],
   "source": [
    "# define model\n",
    "model = Sequential()\n",
    "model.add(Dense(50, input_dim=15, activation='relu'))\n",
    "model.add(Dense(30, activation='relu'))\n",
    "model.add(Dense(30, activation='relu'))\n",
    "model.add(Dense(30, activation='relu'))\n",
    "model.add(Dense(20, activation='relu'))\n",
    "model.add(Dense(10, activation='relu'))\n",
    "model.add(Dense(1, activation='sigmoid'))"
   ]
  },
  {
   "cell_type": "code",
   "execution_count": 9,
   "id": "f0502f34",
   "metadata": {},
   "outputs": [],
   "source": [
    "# compile model\n",
    "model.compile(loss='binary_crossentropy', optimizer='adam', metrics=['accuracy'])"
   ]
  },
  {
   "cell_type": "markdown",
   "id": "982df61a",
   "metadata": {},
   "source": [
    "###  Model Training"
   ]
  },
  {
   "cell_type": "code",
   "execution_count": 10,
   "id": "4f65d8ad",
   "metadata": {},
   "outputs": [
    {
     "name": "stdout",
     "output_type": "stream",
     "text": [
      "Epoch 1/150\n",
      "1063/1063 [==============================] - 3s 2ms/step - loss: 3.0380 - accuracy: 0.8506 - val_loss: 1.5320 - val_accuracy: 0.8901\n",
      "Epoch 2/150\n",
      "1063/1063 [==============================] - 2s 2ms/step - loss: 0.7995 - accuracy: 0.8858 - val_loss: 0.2204 - val_accuracy: 0.9243\n",
      "Epoch 3/150\n",
      "1063/1063 [==============================] - 2s 2ms/step - loss: 0.2961 - accuracy: 0.9240 - val_loss: 0.2068 - val_accuracy: 0.9126\n",
      "Epoch 4/150\n",
      "1063/1063 [==============================] - 2s 2ms/step - loss: 0.2333 - accuracy: 0.9364 - val_loss: 0.1102 - val_accuracy: 0.9793\n",
      "Epoch 5/150\n",
      "1063/1063 [==============================] - 2s 2ms/step - loss: 0.1382 - accuracy: 0.9647 - val_loss: 0.2505 - val_accuracy: 0.9212\n",
      "Epoch 6/150\n",
      "1063/1063 [==============================] - 2s 2ms/step - loss: 0.5373 - accuracy: 0.9374 - val_loss: 0.0938 - val_accuracy: 0.9823\n",
      "Epoch 7/150\n",
      "1063/1063 [==============================] - 2s 2ms/step - loss: 0.1625 - accuracy: 0.9628 - val_loss: 0.1223 - val_accuracy: 0.9740\n",
      "Epoch 8/150\n",
      "1063/1063 [==============================] - 3s 2ms/step - loss: 0.1177 - accuracy: 0.9635 - val_loss: 0.1067 - val_accuracy: 0.9623\n",
      "Epoch 9/150\n",
      "1063/1063 [==============================] - 2s 2ms/step - loss: 0.0996 - accuracy: 0.9702 - val_loss: 0.1220 - val_accuracy: 0.9552\n",
      "Epoch 10/150\n",
      "1063/1063 [==============================] - 2s 2ms/step - loss: 0.1131 - accuracy: 0.9623 - val_loss: 0.0952 - val_accuracy: 0.9671\n",
      "Epoch 11/150\n",
      "1063/1063 [==============================] - 2s 2ms/step - loss: 0.0895 - accuracy: 0.9752 - val_loss: 0.1160 - val_accuracy: 0.9647\n",
      "Epoch 12/150\n",
      "1063/1063 [==============================] - 2s 2ms/step - loss: 0.0856 - accuracy: 0.9769 - val_loss: 0.0675 - val_accuracy: 0.9841\n",
      "Epoch 13/150\n",
      "1063/1063 [==============================] - 2s 2ms/step - loss: 0.0801 - accuracy: 0.9790 - val_loss: 0.0697 - val_accuracy: 0.9853\n",
      "Epoch 14/150\n",
      "1063/1063 [==============================] - 2s 2ms/step - loss: 0.0775 - accuracy: 0.9801 - val_loss: 0.0897 - val_accuracy: 0.9784\n",
      "Epoch 15/150\n",
      "1063/1063 [==============================] - 2s 2ms/step - loss: 0.0907 - accuracy: 0.9763 - val_loss: 0.0684 - val_accuracy: 0.9816\n",
      "Epoch 16/150\n",
      "1063/1063 [==============================] - 2s 2ms/step - loss: 0.0750 - accuracy: 0.9819 - val_loss: 0.0681 - val_accuracy: 0.9874\n",
      "Epoch 17/150\n",
      "1063/1063 [==============================] - 3s 3ms/step - loss: 0.0719 - accuracy: 0.9826 - val_loss: 0.0636 - val_accuracy: 0.9863\n",
      "Epoch 18/150\n",
      "1063/1063 [==============================] - 2s 2ms/step - loss: 0.0711 - accuracy: 0.9831 - val_loss: 0.0573 - val_accuracy: 0.9875\n",
      "Epoch 19/150\n",
      "1063/1063 [==============================] - 2s 2ms/step - loss: 0.0881 - accuracy: 0.9783 - val_loss: 0.0623 - val_accuracy: 0.9873\n",
      "Epoch 20/150\n",
      "1063/1063 [==============================] - 3s 3ms/step - loss: 0.0668 - accuracy: 0.9839 - val_loss: 0.0555 - val_accuracy: 0.9888\n",
      "Epoch 21/150\n",
      "1063/1063 [==============================] - 2s 2ms/step - loss: 0.0668 - accuracy: 0.9843 - val_loss: 0.0606 - val_accuracy: 0.9878\n",
      "Epoch 22/150\n",
      "1063/1063 [==============================] - 2s 2ms/step - loss: 0.0722 - accuracy: 0.9836 - val_loss: 0.0580 - val_accuracy: 0.9888\n",
      "Epoch 23/150\n",
      "1063/1063 [==============================] - 2s 2ms/step - loss: 0.0685 - accuracy: 0.9846 - val_loss: 0.0611 - val_accuracy: 0.9859\n",
      "Epoch 24/150\n",
      "1063/1063 [==============================] - 2s 2ms/step - loss: 0.0628 - accuracy: 0.9855 - val_loss: 0.0570 - val_accuracy: 0.9892\n",
      "Epoch 25/150\n",
      "1063/1063 [==============================] - 2s 2ms/step - loss: 0.0681 - accuracy: 0.9839 - val_loss: 0.0545 - val_accuracy: 0.9889\n",
      "Epoch 26/150\n",
      "1063/1063 [==============================] - 2s 2ms/step - loss: 0.0609 - accuracy: 0.9862 - val_loss: 0.0529 - val_accuracy: 0.9894\n",
      "Epoch 27/150\n",
      "1063/1063 [==============================] - 2s 2ms/step - loss: 0.0612 - accuracy: 0.9859 - val_loss: 0.0538 - val_accuracy: 0.9879\n",
      "Epoch 28/150\n",
      "1063/1063 [==============================] - 2s 2ms/step - loss: 0.0575 - accuracy: 0.9871 - val_loss: 0.0515 - val_accuracy: 0.9893\n",
      "Epoch 29/150\n",
      "1063/1063 [==============================] - 2s 2ms/step - loss: 0.0778 - accuracy: 0.9833 - val_loss: 0.0585 - val_accuracy: 0.9855\n",
      "Epoch 30/150\n",
      "1063/1063 [==============================] - 2s 2ms/step - loss: 0.0604 - accuracy: 0.9872 - val_loss: 0.0602 - val_accuracy: 0.9861\n",
      "Epoch 31/150\n",
      "1063/1063 [==============================] - 2s 2ms/step - loss: 0.0553 - accuracy: 0.9884 - val_loss: 0.0577 - val_accuracy: 0.9885\n",
      "Epoch 32/150\n",
      "1063/1063 [==============================] - 2s 2ms/step - loss: 0.0573 - accuracy: 0.9872 - val_loss: 0.0517 - val_accuracy: 0.9886\n",
      "Epoch 33/150\n",
      "1063/1063 [==============================] - 2s 2ms/step - loss: 0.0583 - accuracy: 0.9872 - val_loss: 0.0537 - val_accuracy: 0.9873\n",
      "Epoch 34/150\n",
      "1063/1063 [==============================] - 2s 2ms/step - loss: 0.0563 - accuracy: 0.9877 - val_loss: 0.0514 - val_accuracy: 0.9874\n",
      "Epoch 35/150\n",
      "1063/1063 [==============================] - 2s 2ms/step - loss: 0.0580 - accuracy: 0.9868 - val_loss: 0.0545 - val_accuracy: 0.9890\n",
      "Epoch 36/150\n",
      "1063/1063 [==============================] - 2s 2ms/step - loss: 0.0564 - accuracy: 0.9876 - val_loss: 0.0537 - val_accuracy: 0.9876\n",
      "Epoch 37/150\n",
      "1063/1063 [==============================] - 2s 2ms/step - loss: 0.0555 - accuracy: 0.9875 - val_loss: 0.0622 - val_accuracy: 0.9863\n",
      "Epoch 38/150\n",
      "1063/1063 [==============================] - 2s 2ms/step - loss: 0.0669 - accuracy: 0.9844 - val_loss: 0.0558 - val_accuracy: 0.9849\n",
      "Epoch 39/150\n",
      "1063/1063 [==============================] - 2s 2ms/step - loss: 0.1618 - accuracy: 0.9483 - val_loss: 0.0623 - val_accuracy: 0.9864\n",
      "Epoch 40/150\n",
      "1063/1063 [==============================] - 2s 2ms/step - loss: 0.0698 - accuracy: 0.9836 - val_loss: 0.0599 - val_accuracy: 0.9828\n",
      "Epoch 41/150\n",
      "1063/1063 [==============================] - 2s 2ms/step - loss: 0.0535 - accuracy: 0.9882 - val_loss: 0.0547 - val_accuracy: 0.9881\n",
      "Epoch 42/150\n",
      "1063/1063 [==============================] - 2s 2ms/step - loss: 0.0557 - accuracy: 0.9876 - val_loss: 0.0532 - val_accuracy: 0.9868\n",
      "Epoch 43/150\n",
      "1063/1063 [==============================] - 2s 2ms/step - loss: 0.0599 - accuracy: 0.9856 - val_loss: 0.0553 - val_accuracy: 0.9867\n",
      "Epoch 44/150\n",
      "1063/1063 [==============================] - 2s 2ms/step - loss: 0.0524 - accuracy: 0.9886 - val_loss: 0.0468 - val_accuracy: 0.9905\n",
      "Epoch 45/150\n",
      "1063/1063 [==============================] - 2s 2ms/step - loss: 0.0523 - accuracy: 0.9888 - val_loss: 0.0537 - val_accuracy: 0.9890\n",
      "Epoch 46/150\n",
      "1063/1063 [==============================] - 2s 2ms/step - loss: 0.0525 - accuracy: 0.9883 - val_loss: 0.0493 - val_accuracy: 0.9894\n",
      "Epoch 47/150\n",
      "1063/1063 [==============================] - 2s 2ms/step - loss: 0.0524 - accuracy: 0.9888 - val_loss: 0.0638 - val_accuracy: 0.9856\n",
      "Epoch 48/150\n",
      "1063/1063 [==============================] - 2s 2ms/step - loss: 0.0526 - accuracy: 0.9887 - val_loss: 0.0512 - val_accuracy: 0.9881\n",
      "Epoch 49/150\n",
      "1063/1063 [==============================] - 2s 2ms/step - loss: 0.0541 - accuracy: 0.9876 - val_loss: 0.0624 - val_accuracy: 0.9853\n",
      "Epoch 50/150\n",
      "1063/1063 [==============================] - 2s 2ms/step - loss: 0.0587 - accuracy: 0.9874 - val_loss: 0.0511 - val_accuracy: 0.9902\n",
      "Epoch 51/150\n",
      "1063/1063 [==============================] - 3s 2ms/step - loss: 0.0516 - accuracy: 0.9890 - val_loss: 0.0497 - val_accuracy: 0.9901\n",
      "Epoch 52/150\n",
      "1063/1063 [==============================] - 3s 3ms/step - loss: 0.0504 - accuracy: 0.9891 - val_loss: 0.0492 - val_accuracy: 0.9900\n",
      "Epoch 53/150\n",
      "1063/1063 [==============================] - 2s 2ms/step - loss: 0.0513 - accuracy: 0.9889 - val_loss: 0.0474 - val_accuracy: 0.9902\n",
      "Epoch 54/150\n",
      "1063/1063 [==============================] - 2s 2ms/step - loss: 0.0501 - accuracy: 0.9895 - val_loss: 0.0475 - val_accuracy: 0.9906\n",
      "Epoch 55/150\n",
      "1063/1063 [==============================] - 2s 2ms/step - loss: 0.0657 - accuracy: 0.9862 - val_loss: 0.0621 - val_accuracy: 0.9869\n",
      "Epoch 56/150\n",
      "1063/1063 [==============================] - 2s 2ms/step - loss: 0.0528 - accuracy: 0.9895 - val_loss: 0.0477 - val_accuracy: 0.9908\n",
      "Epoch 57/150\n"
     ]
    },
    {
     "name": "stdout",
     "output_type": "stream",
     "text": [
      "1063/1063 [==============================] - 2s 2ms/step - loss: 0.0516 - accuracy: 0.9887 - val_loss: 0.0471 - val_accuracy: 0.9901\n",
      "Epoch 58/150\n",
      "1063/1063 [==============================] - 2s 2ms/step - loss: 0.0496 - accuracy: 0.9895 - val_loss: 0.0576 - val_accuracy: 0.9884\n",
      "Epoch 59/150\n",
      "1063/1063 [==============================] - 2s 2ms/step - loss: 0.0532 - accuracy: 0.9882 - val_loss: 0.0734 - val_accuracy: 0.9803\n",
      "Epoch 60/150\n",
      "1063/1063 [==============================] - 3s 2ms/step - loss: 0.0503 - accuracy: 0.9892 - val_loss: 0.0460 - val_accuracy: 0.9908\n",
      "Epoch 61/150\n",
      "1063/1063 [==============================] - 2s 2ms/step - loss: 0.0523 - accuracy: 0.9882 - val_loss: 0.0467 - val_accuracy: 0.9908\n",
      "Epoch 62/150\n",
      "1063/1063 [==============================] - 2s 2ms/step - loss: 0.0507 - accuracy: 0.9891 - val_loss: 0.0769 - val_accuracy: 0.9733\n",
      "Epoch 63/150\n",
      "1063/1063 [==============================] - 2s 2ms/step - loss: 0.0501 - accuracy: 0.9893 - val_loss: 0.0440 - val_accuracy: 0.9915\n",
      "Epoch 64/150\n",
      "1063/1063 [==============================] - 2s 2ms/step - loss: 0.0503 - accuracy: 0.9895 - val_loss: 0.0622 - val_accuracy: 0.9825\n",
      "Epoch 65/150\n",
      "1063/1063 [==============================] - 2s 2ms/step - loss: 0.0535 - accuracy: 0.9882 - val_loss: 0.0455 - val_accuracy: 0.9907\n",
      "Epoch 66/150\n",
      "1063/1063 [==============================] - 2s 2ms/step - loss: 0.0498 - accuracy: 0.9892 - val_loss: 0.0447 - val_accuracy: 0.9909\n",
      "Epoch 67/150\n",
      "1063/1063 [==============================] - 2s 2ms/step - loss: 0.0492 - accuracy: 0.9893 - val_loss: 0.0469 - val_accuracy: 0.9903\n",
      "Epoch 68/150\n",
      "1063/1063 [==============================] - 2s 2ms/step - loss: 0.0503 - accuracy: 0.9892 - val_loss: 0.0504 - val_accuracy: 0.9891\n",
      "Epoch 69/150\n",
      "1063/1063 [==============================] - 2s 2ms/step - loss: 0.0596 - accuracy: 0.9859 - val_loss: 0.0496 - val_accuracy: 0.9900\n",
      "Epoch 70/150\n",
      "1063/1063 [==============================] - 3s 3ms/step - loss: 0.0505 - accuracy: 0.9897 - val_loss: 0.0475 - val_accuracy: 0.9898\n",
      "Epoch 71/150\n",
      "1063/1063 [==============================] - 2s 2ms/step - loss: 0.0479 - accuracy: 0.9898 - val_loss: 0.0448 - val_accuracy: 0.9913\n",
      "Epoch 72/150\n",
      "1063/1063 [==============================] - 2s 2ms/step - loss: 0.0478 - accuracy: 0.9902 - val_loss: 0.0503 - val_accuracy: 0.9887\n",
      "Epoch 73/150\n",
      "1063/1063 [==============================] - 2s 2ms/step - loss: 0.0488 - accuracy: 0.9897 - val_loss: 0.0499 - val_accuracy: 0.9899\n",
      "Epoch 74/150\n",
      "1063/1063 [==============================] - 2s 2ms/step - loss: 0.0579 - accuracy: 0.9879 - val_loss: 0.0672 - val_accuracy: 0.9821\n",
      "Epoch 75/150\n",
      "1063/1063 [==============================] - 2s 2ms/step - loss: 0.0474 - accuracy: 0.9899 - val_loss: 0.0416 - val_accuracy: 0.9922\n",
      "Epoch 76/150\n",
      "1063/1063 [==============================] - 2s 2ms/step - loss: 0.0464 - accuracy: 0.9901 - val_loss: 0.0472 - val_accuracy: 0.9901\n",
      "Epoch 77/150\n",
      "1063/1063 [==============================] - 2s 2ms/step - loss: 0.0479 - accuracy: 0.9896 - val_loss: 0.0543 - val_accuracy: 0.9865\n",
      "Epoch 78/150\n",
      "1063/1063 [==============================] - 2s 2ms/step - loss: 0.0844 - accuracy: 0.9842 - val_loss: 0.0483 - val_accuracy: 0.9905\n",
      "Epoch 79/150\n",
      "1063/1063 [==============================] - 2s 2ms/step - loss: 0.0524 - accuracy: 0.9892 - val_loss: 0.0451 - val_accuracy: 0.9911\n",
      "Epoch 80/150\n",
      "1063/1063 [==============================] - 2s 2ms/step - loss: 0.0496 - accuracy: 0.9891 - val_loss: 0.0481 - val_accuracy: 0.9897\n",
      "Epoch 81/150\n",
      "1063/1063 [==============================] - 2s 2ms/step - loss: 0.0464 - accuracy: 0.9900 - val_loss: 0.0440 - val_accuracy: 0.9911\n",
      "Epoch 82/150\n",
      "1063/1063 [==============================] - 3s 3ms/step - loss: 0.0480 - accuracy: 0.9892 - val_loss: 0.0503 - val_accuracy: 0.9877\n",
      "Epoch 83/150\n",
      "1063/1063 [==============================] - 2s 2ms/step - loss: 0.0608 - accuracy: 0.9860 - val_loss: 0.0595 - val_accuracy: 0.9851\n",
      "Epoch 84/150\n",
      "1063/1063 [==============================] - 2s 2ms/step - loss: 0.0486 - accuracy: 0.9893 - val_loss: 0.0439 - val_accuracy: 0.9912\n",
      "Epoch 85/150\n",
      "1063/1063 [==============================] - 2s 2ms/step - loss: 0.0450 - accuracy: 0.9906 - val_loss: 0.0423 - val_accuracy: 0.9911\n",
      "Epoch 86/150\n",
      "1063/1063 [==============================] - 2s 2ms/step - loss: 0.0452 - accuracy: 0.9903 - val_loss: 0.0616 - val_accuracy: 0.9861\n",
      "Epoch 87/150\n",
      "1063/1063 [==============================] - 2s 2ms/step - loss: 0.0459 - accuracy: 0.9902 - val_loss: 0.0417 - val_accuracy: 0.9917\n",
      "Epoch 88/150\n",
      "1063/1063 [==============================] - 2s 2ms/step - loss: 0.0477 - accuracy: 0.9897 - val_loss: 0.0463 - val_accuracy: 0.9901\n",
      "Epoch 89/150\n",
      "1063/1063 [==============================] - 3s 3ms/step - loss: 0.0467 - accuracy: 0.9899 - val_loss: 0.0441 - val_accuracy: 0.9918\n",
      "Epoch 90/150\n",
      "1063/1063 [==============================] - 2s 2ms/step - loss: 0.0454 - accuracy: 0.9902 - val_loss: 0.0613 - val_accuracy: 0.9853\n",
      "Epoch 91/150\n",
      "1063/1063 [==============================] - 2s 2ms/step - loss: 0.0471 - accuracy: 0.9900 - val_loss: 0.0432 - val_accuracy: 0.9917\n",
      "Epoch 92/150\n",
      "1063/1063 [==============================] - 2s 2ms/step - loss: 0.0469 - accuracy: 0.9897 - val_loss: 0.0800 - val_accuracy: 0.9899\n",
      "Epoch 93/150\n",
      "1063/1063 [==============================] - 2s 2ms/step - loss: 0.0532 - accuracy: 0.9894 - val_loss: 0.0470 - val_accuracy: 0.9900\n",
      "Epoch 94/150\n",
      "1063/1063 [==============================] - 2s 2ms/step - loss: 0.0457 - accuracy: 0.9904 - val_loss: 0.0466 - val_accuracy: 0.9898\n",
      "Epoch 95/150\n",
      "1063/1063 [==============================] - 2s 2ms/step - loss: 0.0458 - accuracy: 0.9904 - val_loss: 0.0441 - val_accuracy: 0.9913\n",
      "Epoch 96/150\n",
      "1063/1063 [==============================] - 2s 2ms/step - loss: 0.0464 - accuracy: 0.9901 - val_loss: 0.0425 - val_accuracy: 0.9911\n",
      "Epoch 97/150\n",
      "1063/1063 [==============================] - 2s 2ms/step - loss: 0.0456 - accuracy: 0.9905 - val_loss: 0.0470 - val_accuracy: 0.9902\n",
      "Epoch 98/150\n",
      "1063/1063 [==============================] - 2s 2ms/step - loss: 0.0476 - accuracy: 0.9898 - val_loss: 0.0513 - val_accuracy: 0.9893\n",
      "Epoch 99/150\n",
      "1063/1063 [==============================] - 2s 2ms/step - loss: 0.0448 - accuracy: 0.9906 - val_loss: 0.0447 - val_accuracy: 0.9913\n",
      "Epoch 100/150\n",
      "1063/1063 [==============================] - 2s 2ms/step - loss: 0.0530 - accuracy: 0.9882 - val_loss: 0.0539 - val_accuracy: 0.9892\n",
      "Epoch 101/150\n",
      "1063/1063 [==============================] - 2s 2ms/step - loss: 0.0451 - accuracy: 0.9910 - val_loss: 0.0430 - val_accuracy: 0.9912\n",
      "Epoch 102/150\n",
      "1063/1063 [==============================] - 2s 2ms/step - loss: 0.0449 - accuracy: 0.9909 - val_loss: 0.0436 - val_accuracy: 0.9912\n",
      "Epoch 103/150\n",
      "1063/1063 [==============================] - 3s 3ms/step - loss: 0.0435 - accuracy: 0.9912 - val_loss: 0.0412 - val_accuracy: 0.9915\n",
      "Epoch 104/150\n",
      "1063/1063 [==============================] - 2s 2ms/step - loss: 0.0483 - accuracy: 0.9891 - val_loss: 0.0427 - val_accuracy: 0.9911\n",
      "Epoch 105/150\n",
      "1063/1063 [==============================] - 2s 2ms/step - loss: 0.0477 - accuracy: 0.9893 - val_loss: 0.0443 - val_accuracy: 0.9903\n",
      "Epoch 106/150\n",
      "1063/1063 [==============================] - 2s 2ms/step - loss: 0.0434 - accuracy: 0.9908 - val_loss: 0.0424 - val_accuracy: 0.9915\n",
      "Epoch 107/150\n",
      "1063/1063 [==============================] - 2s 2ms/step - loss: 0.0448 - accuracy: 0.9903 - val_loss: 0.0463 - val_accuracy: 0.9900\n",
      "Epoch 108/150\n",
      "1063/1063 [==============================] - 2s 2ms/step - loss: 0.0454 - accuracy: 0.9904 - val_loss: 0.0415 - val_accuracy: 0.9917\n",
      "Epoch 109/150\n",
      "1063/1063 [==============================] - 3s 3ms/step - loss: 0.0458 - accuracy: 0.9903 - val_loss: 0.0453 - val_accuracy: 0.9893\n",
      "Epoch 110/150\n",
      "1063/1063 [==============================] - 2s 2ms/step - loss: 0.0453 - accuracy: 0.9903 - val_loss: 0.0411 - val_accuracy: 0.9920\n",
      "Epoch 111/150\n",
      "1063/1063 [==============================] - 2s 2ms/step - loss: 0.0429 - accuracy: 0.9910 - val_loss: 0.0428 - val_accuracy: 0.9918\n",
      "Epoch 112/150\n",
      "1063/1063 [==============================] - 2s 2ms/step - loss: 0.0430 - accuracy: 0.9909 - val_loss: 0.0399 - val_accuracy: 0.9922\n",
      "Epoch 113/150\n"
     ]
    },
    {
     "name": "stdout",
     "output_type": "stream",
     "text": [
      "1063/1063 [==============================] - 2s 2ms/step - loss: 0.0416 - accuracy: 0.9917 - val_loss: 0.0395 - val_accuracy: 0.9923\n",
      "Epoch 114/150\n",
      "1063/1063 [==============================] - 2s 2ms/step - loss: 0.0457 - accuracy: 0.9898 - val_loss: 0.0470 - val_accuracy: 0.9890\n",
      "Epoch 115/150\n",
      "1063/1063 [==============================] - 2s 2ms/step - loss: 0.0455 - accuracy: 0.9905 - val_loss: 0.0425 - val_accuracy: 0.9906\n",
      "Epoch 116/150\n",
      "1063/1063 [==============================] - 2s 2ms/step - loss: 0.0485 - accuracy: 0.9894 - val_loss: 0.0409 - val_accuracy: 0.9918\n",
      "Epoch 117/150\n",
      "1063/1063 [==============================] - 2s 2ms/step - loss: 0.0439 - accuracy: 0.9909 - val_loss: 0.0428 - val_accuracy: 0.9912\n",
      "Epoch 118/150\n",
      "1063/1063 [==============================] - 2s 2ms/step - loss: 0.0453 - accuracy: 0.9901 - val_loss: 0.0415 - val_accuracy: 0.9915\n",
      "Epoch 119/150\n",
      "1063/1063 [==============================] - 2s 2ms/step - loss: 0.0451 - accuracy: 0.9905 - val_loss: 0.0449 - val_accuracy: 0.9907\n",
      "Epoch 120/150\n",
      "1063/1063 [==============================] - 2s 2ms/step - loss: 0.0436 - accuracy: 0.9907 - val_loss: 0.0461 - val_accuracy: 0.9908\n",
      "Epoch 121/150\n",
      "1063/1063 [==============================] - 2s 2ms/step - loss: 0.0437 - accuracy: 0.9908 - val_loss: 0.0394 - val_accuracy: 0.9924\n",
      "Epoch 122/150\n",
      "1063/1063 [==============================] - 2s 2ms/step - loss: 0.0522 - accuracy: 0.9880 - val_loss: 0.0407 - val_accuracy: 0.9921\n",
      "Epoch 123/150\n",
      "1063/1063 [==============================] - 2s 2ms/step - loss: 0.0735 - accuracy: 0.9805 - val_loss: 0.0801 - val_accuracy: 0.9777\n",
      "Epoch 124/150\n",
      "1063/1063 [==============================] - 2s 2ms/step - loss: 0.0600 - accuracy: 0.9851 - val_loss: 0.0517 - val_accuracy: 0.9877\n",
      "Epoch 125/150\n",
      "1063/1063 [==============================] - 2s 2ms/step - loss: 0.0464 - accuracy: 0.9899 - val_loss: 0.0447 - val_accuracy: 0.9906\n",
      "Epoch 126/150\n",
      "1063/1063 [==============================] - 2s 2ms/step - loss: 0.0446 - accuracy: 0.9907 - val_loss: 0.0433 - val_accuracy: 0.9904\n",
      "Epoch 127/150\n",
      "1063/1063 [==============================] - 2s 2ms/step - loss: 0.0454 - accuracy: 0.9904 - val_loss: 0.0470 - val_accuracy: 0.9897\n",
      "Epoch 128/150\n",
      "1063/1063 [==============================] - 2s 2ms/step - loss: 0.0461 - accuracy: 0.9902 - val_loss: 0.0427 - val_accuracy: 0.9914\n",
      "Epoch 129/150\n",
      "1063/1063 [==============================] - 2s 2ms/step - loss: 0.0439 - accuracy: 0.9907 - val_loss: 0.0395 - val_accuracy: 0.9925\n",
      "Epoch 130/150\n",
      "1063/1063 [==============================] - 2s 2ms/step - loss: 0.0467 - accuracy: 0.9901 - val_loss: 0.0464 - val_accuracy: 0.9891\n",
      "Epoch 131/150\n",
      "1063/1063 [==============================] - 2s 2ms/step - loss: 0.0433 - accuracy: 0.9908 - val_loss: 0.0445 - val_accuracy: 0.9915\n",
      "Epoch 132/150\n",
      "1063/1063 [==============================] - 2s 2ms/step - loss: 0.0445 - accuracy: 0.9906 - val_loss: 0.0412 - val_accuracy: 0.9919\n",
      "Epoch 133/150\n",
      "1063/1063 [==============================] - 2s 2ms/step - loss: 0.0428 - accuracy: 0.9912 - val_loss: 0.0428 - val_accuracy: 0.9917\n",
      "Epoch 134/150\n",
      "1063/1063 [==============================] - 2s 2ms/step - loss: 0.2501 - accuracy: 0.9257 - val_loss: 0.3103 - val_accuracy: 0.9000\n",
      "Epoch 135/150\n",
      "1063/1063 [==============================] - 2s 2ms/step - loss: 0.1253 - accuracy: 0.9621 - val_loss: 0.0536 - val_accuracy: 0.9874\n",
      "Epoch 136/150\n",
      "1063/1063 [==============================] - 2s 2ms/step - loss: 0.0505 - accuracy: 0.9890 - val_loss: 0.0454 - val_accuracy: 0.9908\n",
      "Epoch 137/150\n",
      "1063/1063 [==============================] - 2s 2ms/step - loss: 0.0476 - accuracy: 0.9902 - val_loss: 0.0460 - val_accuracy: 0.9908\n",
      "Epoch 138/150\n",
      "1063/1063 [==============================] - 2s 2ms/step - loss: 0.0455 - accuracy: 0.9905 - val_loss: 0.0439 - val_accuracy: 0.9908\n",
      "Epoch 139/150\n",
      "1063/1063 [==============================] - 2s 2ms/step - loss: 0.0455 - accuracy: 0.9903 - val_loss: 0.0427 - val_accuracy: 0.9913\n",
      "Epoch 140/150\n",
      "1063/1063 [==============================] - 2s 2ms/step - loss: 0.0455 - accuracy: 0.9901 - val_loss: 0.1914 - val_accuracy: 0.9517\n",
      "Epoch 141/150\n",
      "1063/1063 [==============================] - 2s 2ms/step - loss: 0.0456 - accuracy: 0.9899 - val_loss: 0.0389 - val_accuracy: 0.9926\n",
      "Epoch 142/150\n",
      "1063/1063 [==============================] - 2s 2ms/step - loss: 0.0446 - accuracy: 0.9903 - val_loss: 0.0422 - val_accuracy: 0.9914\n",
      "Epoch 143/150\n",
      "1063/1063 [==============================] - 2s 2ms/step - loss: 0.0454 - accuracy: 0.9900 - val_loss: 0.0500 - val_accuracy: 0.9866\n",
      "Epoch 144/150\n",
      "1063/1063 [==============================] - 2s 2ms/step - loss: 0.0456 - accuracy: 0.9904 - val_loss: 0.0398 - val_accuracy: 0.9915\n",
      "Epoch 145/150\n",
      "1063/1063 [==============================] - 2s 2ms/step - loss: 0.0428 - accuracy: 0.9911 - val_loss: 0.0454 - val_accuracy: 0.9902\n",
      "Epoch 146/150\n",
      "1063/1063 [==============================] - 2s 2ms/step - loss: 0.0472 - accuracy: 0.9906 - val_loss: 0.0423 - val_accuracy: 0.9900\n",
      "Epoch 147/150\n",
      "1063/1063 [==============================] - 2s 2ms/step - loss: 0.0422 - accuracy: 0.9911 - val_loss: 0.0464 - val_accuracy: 0.9897\n",
      "Epoch 148/150\n",
      "1063/1063 [==============================] - 2s 2ms/step - loss: 0.0421 - accuracy: 0.9912 - val_loss: 0.0396 - val_accuracy: 0.9920\n",
      "Epoch 149/150\n",
      "1063/1063 [==============================] - 2s 2ms/step - loss: 0.0441 - accuracy: 0.9903 - val_loss: 0.0386 - val_accuracy: 0.9925\n",
      "Epoch 150/150\n",
      "1063/1063 [==============================] - 2s 2ms/step - loss: 0.0416 - accuracy: 0.9913 - val_loss: 0.0455 - val_accuracy: 0.9903\n"
     ]
    }
   ],
   "source": [
    "# Fit the model\n",
    "history = model.fit(x_train, y_train, validation_split=0.3, epochs=150, batch_size=100, verbose=1)"
   ]
  },
  {
   "cell_type": "code",
   "execution_count": 11,
   "id": "316047c9",
   "metadata": {},
   "outputs": [
    {
     "name": "stdout",
     "output_type": "stream",
     "text": [
      "dict_keys(['loss', 'accuracy', 'val_loss', 'val_accuracy'])\n"
     ]
    }
   ],
   "source": [
    "print(history.history.keys())"
   ]
  },
  {
   "cell_type": "code",
   "execution_count": 12,
   "id": "f58aeff3",
   "metadata": {},
   "outputs": [
    {
     "data": {
      "image/png": "[encoded data removed]",
      "text/plain": [
       "<Figure size 1080x360 with 2 Axes>"
      ]
     },
     "metadata": {
      "needs_background": "light"
     },
     "output_type": "display_data"
    }
   ],
   "source": [
    "fig = plt.figure(figsize=(15,5))\n",
    "fig.suptitle('DNN Food Insecurity Predictive Model Training and Validation Learning Curve ')\n",
    "\n",
    "plt.subplot(121)\n",
    "plt.plot(history.history['accuracy'])\n",
    "plt.plot(history.history['val_accuracy'])\n",
    "plt.title('Model Accuracy')\n",
    "plt.ylabel('Accuracy')\n",
    "plt.xlabel('Epoch')\n",
    "plt.grid()\n",
    "plt.legend(['Train', 'Validation'], loc='lower right')\n",
    "#plt.show()\n",
    "\n",
    "plt.subplot(122)\n",
    "plt.plot(history.history['loss'])\n",
    "plt.plot(history.history['val_loss'])\n",
    "plt.title('Model Loss')\n",
    "plt.ylabel('Loss')\n",
    "plt.xlabel('epoch')\n",
    "plt.grid()\n",
    "plt.legend(['Train', 'Validation'], loc='upper right')\n",
    "plt.show()"
   ]
  },
  {
   "cell_type": "code",
   "execution_count": 13,
   "id": "e93315b9",
   "metadata": {},
   "outputs": [
    {
     "name": "stdout",
     "output_type": "stream",
     "text": [
      "Saved model to disk\n"
     ]
    }
   ],
   "source": [
    "# save model and architecture to single file\n",
    "model.save(\"FoodInsecurityPredictive_DnnModel.h5\")\n",
    "print(\"Saved model to disk\")"
   ]
  },
  {
   "cell_type": "code",
   "execution_count": 14,
   "id": "1798a8af",
   "metadata": {},
   "outputs": [],
   "source": [
    "#from sklearn.metrics import accuracy_score\n",
    "from sklearn.metrics import classification_report, confusion_matrix\n",
    "from sklearn.metrics import roc_curve\n",
    "from sklearn.metrics import roc_auc_score"
   ]
  },
  {
   "cell_type": "code",
   "execution_count": 15,
   "id": "578f3f31",
   "metadata": {},
   "outputs": [],
   "source": [
    "prediction = model.predict(x_test)\n",
    "#prediction = pd.DataFrame(prediction)\n",
    "\n",
    "prediction = np.around(prediction)\n",
    "prediction = prediction.astype(np.int)"
   ]
  },
  {
   "cell_type": "markdown",
   "id": "d17167ba",
   "metadata": {},
   "source": [
    "### DNN Model Evaluation"
   ]
  },
  {
   "cell_type": "code",
   "execution_count": 16,
   "id": "0c185c84",
   "metadata": {},
   "outputs": [
    {
     "name": "stdout",
     "output_type": "stream",
     "text": [
      "[[46991   262]\n",
      " [  336 17484]]\n"
     ]
    }
   ],
   "source": [
    "print(confusion_matrix(y_test, prediction))"
   ]
  },
  {
   "cell_type": "code",
   "execution_count": 17,
   "id": "a3f18d8a",
   "metadata": {},
   "outputs": [
    {
     "name": "stdout",
     "output_type": "stream",
     "text": [
      "              precision    recall  f1-score   support\n",
      "\n",
      "           0       0.99      0.99      0.99     47253\n",
      "           1       0.99      0.98      0.98     17820\n",
      "\n",
      "    accuracy                           0.99     65073\n",
      "   macro avg       0.99      0.99      0.99     65073\n",
      "weighted avg       0.99      0.99      0.99     65073\n",
      "\n"
     ]
    }
   ],
   "source": [
    "print(classification_report(y_test, prediction))"
   ]
  },
  {
   "cell_type": "code",
   "execution_count": 18,
   "id": "6940e291",
   "metadata": {},
   "outputs": [
    {
     "data": {
      "image/png": "[encoded data removed]",
      "text/plain": [
       "<Figure size 432x288 with 1 Axes>"
      ]
     },
     "metadata": {
      "needs_background": "light"
     },
     "output_type": "display_data"
    }
   ],
   "source": [
    "roc_auc = roc_auc_score(y_test, prediction)\n",
    "fpr, tpr, _ = roc_curve(y_test, prediction)\n",
    "plt.plot(fpr, tpr, color='darkorange', lw=1, label='ROC curve (area=%0.2f)' % roc_auc)\n",
    "plt.plot([0,1], [0,1], color='navy', lw=1, linestyle='--')\n",
    "plt.xlim([0.0, 1.0])\n",
    "plt.ylim([0.0, 1.05])\n",
    "plt.xlabel('False Positive Rate')\n",
    "plt.ylabel('True Positive Rate')\n",
    "plt.title('Food Insecurity DNN Predictive Model ROC Curve')\n",
    "plt.legend(loc=\"lower right\")\n",
    "\n",
    "plt.show()"
   ]
  },
  {
   "cell_type": "code",
   "execution_count": 19,
   "id": "a1a84f15",
   "metadata": {},
   "outputs": [
    {
     "name": "stdout",
     "output_type": "stream",
     "text": [
      " \n",
      "AUC for Food Insecrity Predictive DNN Model: 0.988\n"
     ]
    }
   ],
   "source": [
    "auc = roc_auc_score(y_test, prediction)\n",
    "print(' ')\n",
    "print('AUC for Food Insecrity Predictive DNN Model: %.3f' % auc)"
   ]
  },
  {
   "cell_type": "code",
   "execution_count": 20,
   "id": "0f2acdec",
   "metadata": {},
   "outputs": [],
   "source": [
    "from sklearn import model_selection\n",
    "from sklearn.linear_model import LogisticRegression\n",
    "import pickle"
   ]
  },
  {
   "cell_type": "code",
   "execution_count": 21,
   "id": "9abd130a",
   "metadata": {},
   "outputs": [],
   "source": [
    "logmodel = LogisticRegression(max_iter = 150)"
   ]
  },
  {
   "cell_type": "code",
   "execution_count": 22,
   "id": "da458ce9",
   "metadata": {},
   "outputs": [
    {
     "data": {
      "text/plain": [
       "LogisticRegression(max_iter=150)"
      ]
     },
     "execution_count": 22,
     "metadata": {},
     "output_type": "execute_result"
    }
   ],
   "source": [
    "logmodel.fit(x_train, y_train)"
   ]
  },
  {
   "cell_type": "code",
   "execution_count": 23,
   "id": "0a594f34",
   "metadata": {},
   "outputs": [
    {
     "data": {
      "text/plain": [
       "0.9315379751837509"
      ]
     },
     "execution_count": 23,
     "metadata": {},
     "output_type": "execute_result"
    }
   ],
   "source": [
    "logmodel.score(x_train, y_train)"
   ]
  },
  {
   "cell_type": "code",
   "execution_count": 24,
   "id": "04094bf2",
   "metadata": {},
   "outputs": [
    {
     "name": "stdout",
     "output_type": "stream",
     "text": [
      "Saved model to disk\n"
     ]
    }
   ],
   "source": [
    "# save model and architecture to single file\n",
    "pickle.dump(logmodel, open('FoodInsecurityPredictive_LogModel.sav', 'wb'))\n",
    "print(\"Saved model to disk\")"
   ]
  },
  {
   "cell_type": "code",
   "execution_count": 25,
   "id": "4bba6b08",
   "metadata": {},
   "outputs": [],
   "source": [
    "logPrediction = logmodel.predict(x_test)"
   ]
  },
  {
   "cell_type": "code",
   "execution_count": 26,
   "id": "7d755f7e",
   "metadata": {},
   "outputs": [
    {
     "name": "stdout",
     "output_type": "stream",
     "text": [
      "[[45916  1337]\n",
      " [ 3042 14778]]\n"
     ]
    }
   ],
   "source": [
    "print(confusion_matrix(y_test, logPrediction))"
   ]
  },
  {
   "cell_type": "code",
   "execution_count": 27,
   "id": "5cdbb626",
   "metadata": {},
   "outputs": [
    {
     "name": "stdout",
     "output_type": "stream",
     "text": [
      "              precision    recall  f1-score   support\n",
      "\n",
      "           0       0.94      0.97      0.95     47253\n",
      "           1       0.92      0.83      0.87     17820\n",
      "\n",
      "    accuracy                           0.93     65073\n",
      "   macro avg       0.93      0.90      0.91     65073\n",
      "weighted avg       0.93      0.93      0.93     65073\n",
      "\n"
     ]
    }
   ],
   "source": [
    "print(classification_report(y_test, logPrediction))"
   ]
  },
  {
   "cell_type": "code",
   "execution_count": 28,
   "id": "f2648a17",
   "metadata": {},
   "outputs": [
    {
     "name": "stdout",
     "output_type": "stream",
     "text": [
      "AUC: 0.900\n"
     ]
    }
   ],
   "source": [
    "auc = roc_auc_score(y_test, logPrediction)\n",
    "print('AUC: %.3f' % auc)"
   ]
  },
  {
   "cell_type": "code",
   "execution_count": null,
   "id": "05ef204e",
   "metadata": {},
   "outputs": [],
   "source": []
  },
  {
   "cell_type": "code",
   "execution_count": 29,
   "id": "b3e18ca1",
   "metadata": {},
   "outputs": [],
   "source": [
    "data = {'Accuracy':[0.99,0.93], 'Precision':[0.99,0.93], 'Recall':[0.99,0.90], \n",
    "        'F1-Score':[0.99,0.91], 'ROC/AUC':[0.98,0.90]}\n",
    "index = ['DNN Model', 'Logistic Model']        \n",
    "resultEva = pd.DataFrame(data, index)"
   ]
  },
  {
   "cell_type": "markdown",
   "id": "5d2cdc4e",
   "metadata": {},
   "source": [
    "#### Performance Evaluation Comparison Between DNN model and Logistic Regression Model"
   ]
  },
  {
   "cell_type": "code",
   "execution_count": 30,
   "id": "4d735ce2",
   "metadata": {},
   "outputs": [
    {
     "data": {
      "text/html": [
       "<div>\n",
       "<style scoped>\n",
       "    .dataframe tbody tr th:only-of-type {\n",
       "        vertical-align: middle;\n",
       "    }\n",
       "\n",
       "    .dataframe tbody tr th {\n",
       "        vertical-align: top;\n",
       "    }\n",
       "\n",
       "    .dataframe thead th {\n",
       "        text-align: right;\n",
       "    }\n",
       "</style>\n",
       "<table border=\"1\" class=\"dataframe\">\n",
       "  <thead>\n",
       "    <tr style=\"text-align: right;\">\n",
       "      <th></th>\n",
       "      <th>Accuracy</th>\n",
       "      <th>Precision</th>\n",
       "      <th>Recall</th>\n",
       "      <th>F1-Score</th>\n",
       "      <th>ROC/AUC</th>\n",
       "    </tr>\n",
       "  </thead>\n",
       "  <tbody>\n",
       "    <tr>\n",
       "      <th>DNN Model</th>\n",
       "      <td>0.99</td>\n",
       "      <td>0.99</td>\n",
       "      <td>0.99</td>\n",
       "      <td>0.99</td>\n",
       "      <td>0.98</td>\n",
       "    </tr>\n",
       "    <tr>\n",
       "      <th>Logistic Model</th>\n",
       "      <td>0.93</td>\n",
       "      <td>0.93</td>\n",
       "      <td>0.90</td>\n",
       "      <td>0.91</td>\n",
       "      <td>0.90</td>\n",
       "    </tr>\n",
       "  </tbody>\n",
       "</table>\n",
       "</div>"
      ],
      "text/plain": [
       "                Accuracy  Precision  Recall  F1-Score  ROC/AUC\n",
       "DNN Model           0.99       0.99    0.99      0.99     0.98\n",
       "Logistic Model      0.93       0.93    0.90      0.91     0.90"
      ]
     },
     "execution_count": 30,
     "metadata": {},
     "output_type": "execute_result"
    }
   ],
   "source": [
    "resultEva"
   ]
  },
  {
   "cell_type": "markdown",
   "id": "a5ebd159",
   "metadata": {},
   "source": []
  },
  {
   "cell_type": "code",
   "execution_count": 31,
   "id": "f9589fea",
   "metadata": {},
   "outputs": [
    {
     "data": {
      "text/plain": [
       "<AxesSubplot:title={'center':'Performance Evaluation Comparison Between DNN model and Logistic Regression Model'}>"
      ]
     },
     "execution_count": 31,
     "metadata": {},
     "output_type": "execute_result"
    },
    {
     "data": {
      "image/png": "[encoded data removed]",
      "text/plain": [
       "<Figure size 432x288 with 1 Axes>"
      ]
     },
     "metadata": {
      "needs_background": "light"
     },
     "output_type": "display_data"
    }
   ],
   "source": [
    "dataFrame = pd.DataFrame(data = data, index = index)\n",
    "dataFrame.plot.bar(rot = 15, title = 'Performance Evaluation Comparison Between DNN model and Logistic Regression Model')\n"
   ]
  },
  {
   "cell_type": "code",
   "execution_count": null,
   "id": "c004e877",
   "metadata": {},
   "outputs": [],
   "source": []
  },
  {
   "cell_type": "code",
   "execution_count": null,
   "id": "962b984b",
   "metadata": {},
   "outputs": [],
   "source": []
  },
  {
   "cell_type": "code",
   "execution_count": null,
   "id": "3b566e29",
   "metadata": {},
   "outputs": [],
   "source": []
  },
  {
   "cell_type": "code",
   "execution_count": null,
   "id": "2e6c0345",
   "metadata": {},
   "outputs": [],
   "source": []
  }
 ],
 "metadata": {
  "kernelspec": {
   "display_name": "Python 3",
   "language": "python",
   "name": "python3"
  },
  "language_info": {
   "codemirror_mode": {
    "name": "ipython",
    "version": 3
   },
   "file_extension": ".py",
   "mimetype": "text/x-python",
   "name": "python",
   "nbconvert_exporter": "python",
   "pygments_lexer": "ipython3",
   "version": "3.6.13"
  }
 },
 "nbformat": 4,
 "nbformat_minor": 5
}
